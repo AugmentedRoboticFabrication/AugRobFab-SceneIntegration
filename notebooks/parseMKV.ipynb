{
 "cells": [
  {
   "cell_type": "code",
   "execution_count": 7,
   "metadata": {},
   "outputs": [
    {
     "data": {
      "text/plain": [
       "'c:\\\\Users\\\\Ozguc\\\\Documents\\\\GitHub\\\\AugmentedRoboticFabrication'"
      ]
     },
     "execution_count": 7,
     "metadata": {},
     "output_type": "execute_result"
    }
   ],
   "source": [
    "import os\n",
    "from src.AzureKinectParser import AzureKinectMKVParser\n",
    "\n",
    "root = str(globals()['_dh'][0])\n",
    "root"
   ]
  },
  {
   "cell_type": "code",
   "execution_count": 8,
   "metadata": {},
   "outputs": [],
   "source": [
    "folder = 'ruled_test'\n",
    "\n",
    "parser = AzureKinectMKVParser(fn=folder, root=root)\n",
    "parser.rgbd(color=True, depth=True)\n",
    "parser.calibration()"
   ]
  }
 ],
 "metadata": {
  "interpreter": {
   "hash": "affac053bf83244b8029a0c18ce67c977e58ec37167172768ee8e4194768d7aa"
  },
  "kernelspec": {
   "display_name": "Python 3.8.12 64-bit ('azure': conda)",
   "name": "python3"
  },
  "language_info": {
   "codemirror_mode": {
    "name": "ipython",
    "version": 3
   },
   "file_extension": ".py",
   "mimetype": "text/x-python",
   "name": "python",
   "nbconvert_exporter": "python",
   "pygments_lexer": "ipython3",
   "version": "3.8.13"
  },
  "orig_nbformat": 4
 },
 "nbformat": 4,
 "nbformat_minor": 2
}
