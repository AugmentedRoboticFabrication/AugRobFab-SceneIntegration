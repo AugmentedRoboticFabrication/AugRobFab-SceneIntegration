{
 "cells": [
  {
   "cell_type": "code",
   "execution_count": 1,
   "metadata": {},
   "outputs": [],
   "source": [
    "root = str(globals()['_dh'][0])\n",
    "folder = 'ruled_test'\n",
    "\n",
    "runParseMKV = False\n",
    "runParseT_ROB = True\n",
    "runIntegrate = True"
   ]
  },
  {
   "cell_type": "code",
   "execution_count": 2,
   "metadata": {},
   "outputs": [],
   "source": [
    "if runParseMKV:\n",
    "    from src.AzureKinectParser import AzureKinectMKVParser\n",
    "    \n",
    "    parser = AzureKinectMKVParser(fn=folder, root=root)\n",
    "    parser.rgbd(color=True, depth=True)"
   ]
  },
  {
   "cell_type": "code",
   "execution_count": 3,
   "metadata": {},
   "outputs": [
    {
     "name": "stdout",
     "output_type": "stream",
     "text": [
      "[[ 0.99994671  0.00623933 -0.00822459 -0.62153128]\n",
      " [-0.00608575  0.99980909  0.01856717 -0.6490015 ]\n",
      " [ 0.00833887 -0.01851612  0.99979379  0.40177035]\n",
      " [ 0.          0.          0.          1.        ]]\n"
     ]
    }
   ],
   "source": [
    "if runParseT_ROB:\n",
    "    from src.ABBParser import T_ROBParser\n",
    "\n",
    "    parser = T_ROBParser(fn=folder, root=root, cam2tcp=\"calib\\\\cam2tcp.npy\")\n",
    "    parser.trajectory()"
   ]
  },
  {
   "cell_type": "code",
   "execution_count": 4,
   "metadata": {},
   "outputs": [
    {
     "name": "stdout",
     "output_type": "stream",
     "text": [
      "Integrating frame 0/100\n",
      "Integrating frame 1/100\n",
      "Integrating frame 2/100\n",
      "Integrating frame 3/100\n",
      "Integrating frame 4/100\n",
      "Integrating frame 5/100\n",
      "Integrating frame 6/100\n",
      "Integrating frame 7/100\n",
      "Integrating frame 8/100\n",
      "Integrating frame 9/100\n",
      "Integrating frame 10/100\n",
      "Integrating frame 11/100\n",
      "Integrating frame 12/100\n",
      "Integrating frame 13/100\n",
      "Integrating frame 14/100\n",
      "Integrating frame 15/100\n",
      "Integrating frame 16/100\n",
      "Integrating frame 17/100\n",
      "Integrating frame 18/100\n",
      "Integrating frame 19/100\n",
      "Integrating frame 20/100\n",
      "Integrating frame 21/100\n",
      "Integrating frame 22/100\n",
      "Integrating frame 23/100\n",
      "Integrating frame 24/100\n",
      "Integrating frame 25/100\n",
      "Integrating frame 26/100\n",
      "Integrating frame 27/100\n",
      "Integrating frame 28/100\n",
      "Integrating frame 29/100\n",
      "Integrating frame 30/100\n",
      "Integrating frame 31/100\n",
      "Integrating frame 32/100\n",
      "Integrating frame 33/100\n",
      "Integrating frame 34/100\n",
      "Integrating frame 35/100\n",
      "Integrating frame 36/100\n",
      "Integrating frame 37/100\n",
      "Integrating frame 38/100\n",
      "Integrating frame 39/100\n",
      "Integrating frame 40/100\n",
      "Integrating frame 41/100\n",
      "Integrating frame 42/100\n",
      "Integrating frame 43/100\n"
     ]
    }
   ],
   "source": [
    "if runIntegrate:\n",
    "    from src.t_integrate import Integrate\n",
    "\n",
    "    recon = Integrate(fn=folder, root=root, \n",
    "                      voxel_size=1.0/512, block_count=200000, depth_max=1.5)\n",
    "    recon.integrate()\n",
    "    recon.exportMesh(fn=\"mesh.ply\")\n",
    "    # recon.exportPointCloud(\"pcd.ply\")"
   ]
  }
 ],
 "metadata": {
  "interpreter": {
   "hash": "f794a8b4dc5f9846b06ed09adeee0745619d33c631a5c2f07a3e6a0330b193d2"
  },
  "kernelspec": {
   "display_name": "Python 3.8.13 ('azureCUDA')",
   "language": "python",
   "name": "python3"
  },
  "language_info": {
   "codemirror_mode": {
    "name": "ipython",
    "version": 3
   },
   "file_extension": ".py",
   "mimetype": "text/x-python",
   "name": "python",
   "nbconvert_exporter": "python",
   "pygments_lexer": "ipython3",
   "version": "3.8.13"
  },
  "orig_nbformat": 4
 },
 "nbformat": 4,
 "nbformat_minor": 2
}
