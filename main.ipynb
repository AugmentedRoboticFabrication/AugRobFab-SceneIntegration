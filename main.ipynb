{
 "cells": [
  {
   "cell_type": "code",
   "execution_count": null,
   "metadata": {},
   "outputs": [],
   "source": [
    "import os\n",
    "os.chdir(globals()['_dh'][0])\n",
    "\n",
    "dir = 'test'\n",
    "\n",
    "\n",
    "parse_MKV = False\n",
    "parse_TROB = True\n",
    "integrate = True\n",
    "\n",
    "voxel_size = 1.0/512"
   ]
  },
  {
   "cell_type": "code",
   "execution_count": null,
   "metadata": {},
   "outputs": [],
   "source": [
    "if parse_MKV:\n",
    "    from src.mkv_parser import AzureKinectMKVParser\n",
    "    parser = AzureKinectMKVParser(\n",
    "        dir=dir,\n",
    "        )\n",
    "    parser.export_frames()\n",
    "    parser.export_calibration()"
   ]
  },
  {
   "cell_type": "code",
   "execution_count": null,
   "metadata": {},
   "outputs": [],
   "source": [
    "if parse_TROB:\n",
    "    from src.abb_parser import TROBParser\n",
    "    os.chdir(globals()['_dh'][0])\n",
    "    parser = TROBParser(\n",
    "        dir=dir,\n",
    "        extrinsic_dir=\"calib/tcp_T_camera.json\",\n",
    "        parsing_method='robtarget',\n",
    "        )\n",
    "    parser.trajectory()"
   ]
  },
  {
   "cell_type": "code",
   "execution_count": null,
   "metadata": {},
   "outputs": [],
   "source": [
    "if integrate:\n",
    "    from src.t_integrate import TSDF_Integration\n",
    "    voxel_grid = TSDF_Integration(\n",
    "        dir=dir,\n",
    "        voxel_size=voxel_size,\n",
    "        depth_max=1.75,\n",
    "        block_resolution=8,\n",
    "        depth_folder_name='depth',\n",
    "        color_folder_name= 'transformed_color',\n",
    "        )\n",
    "    voxel_grid.integrate_batch()\n",
    "    voxel_grid.visualize()\n",
    "    voxel_grid.extract_trianglemesh()"
   ]
  }
 ],
 "metadata": {
  "interpreter": {
   "hash": "f794a8b4dc5f9846b06ed09adeee0745619d33c631a5c2f07a3e6a0330b193d2"
  },
  "kernelspec": {
   "display_name": "Python 3.8.13 ('azureCUDA')",
   "language": "python",
   "name": "python3"
  },
  "language_info": {
   "codemirror_mode": {
    "name": "ipython",
    "version": 3
   },
   "file_extension": ".py",
   "mimetype": "text/x-python",
   "name": "python",
   "nbconvert_exporter": "python",
   "pygments_lexer": "ipython3",
   "version": "3.8.13"
  },
  "orig_nbformat": 4
 },
 "nbformat": 4,
 "nbformat_minor": 2
}
