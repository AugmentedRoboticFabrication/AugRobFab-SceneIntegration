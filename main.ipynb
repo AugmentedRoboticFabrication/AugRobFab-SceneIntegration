{
 "cells": [
  {
   "cell_type": "code",
   "execution_count": 1,
   "metadata": {},
   "outputs": [
    {
     "name": "stdout",
     "output_type": "stream",
     "text": [
      "c:\\Users\\Ozguc\\Documents\\GitHub\\AugmentedRoboticFabrication\n"
     ]
    }
   ],
   "source": [
    "root = str(globals()['_dh'][0])\n",
    "print(root)\n",
    "\n",
    "import os\n",
    "\n",
    "folder = 'capture_nfov_unb_f'\n",
    "\n",
    "runParseMKV = True\n",
    "runParseT_ROB = True\n",
    "runIntegrate = True"
   ]
  },
  {
   "cell_type": "code",
   "execution_count": 2,
   "metadata": {},
   "outputs": [
    {
     "name": "stdout",
     "output_type": "stream",
     "text": [
      "True\n"
     ]
    }
   ],
   "source": [
    "if runParseMKV:\n",
    "    from src.AzureKinectParser import AzureKinectMKVParser\n",
    "    \n",
    "    parser = AzureKinectMKVParser(fn=folder, root=root)\n",
    "    # parser.rgbd(color=True, depth=True, ir=False)\n",
    "    parser.overwriteIntrinsic()"
   ]
  },
  {
   "cell_type": "code",
   "execution_count": 3,
   "metadata": {},
   "outputs": [
    {
     "name": "stdout",
     "output_type": "stream",
     "text": [
      "[[ 0.99999376  0.00192017 -0.0029653  -0.74151074]\n",
      " [-0.00190666  0.99998782  0.00455235 -0.51646706]\n",
      " [ 0.002974   -0.00454667  0.99998524 -1.08636054]\n",
      " [ 0.          0.          0.          1.        ]]\n"
     ]
    }
   ],
   "source": [
    "if runParseT_ROB:\n",
    "    from src.ABBParser import T_ROBParser\n",
    "\n",
    "    parser = T_ROBParser(fn=folder, root=root, cam2tcp=\"calib\\\\cam2tcp_ir.npy\")\n",
    "    parser.trajectory()"
   ]
  },
  {
   "cell_type": "code",
   "execution_count": 4,
   "metadata": {},
   "outputs": [
    {
     "name": "stdout",
     "output_type": "stream",
     "text": [
      "[[503.546 0.0 317.747],\n",
      " [0.0 503.649 325.174],\n",
      " [0.0 0.0 1.0]]\n",
      "Tensor[shape={3, 3}, stride={3, 1}, Float64, CPU:0, 0x1101a3e5360]\n",
      "Integrating frame 1/64\n",
      "Integrating frame 2/64\n",
      "Integrating frame 3/64\n",
      "Integrating frame 4/64\n",
      "Integrating frame 5/64\n",
      "Integrating frame 6/64\n",
      "Integrating frame 7/64\n",
      "Integrating frame 8/64\n",
      "Integrating frame 9/64\n",
      "Integrating frame 10/64\n",
      "Integrating frame 11/64\n",
      "Integrating frame 12/64\n",
      "Integrating frame 13/64\n",
      "Integrating frame 14/64\n",
      "Integrating frame 15/64\n",
      "Integrating frame 16/64\n",
      "Integrating frame 17/64\n",
      "Integrating frame 18/64\n",
      "Integrating frame 19/64\n",
      "Integrating frame 20/64\n",
      "Integrating frame 21/64\n",
      "Integrating frame 22/64\n",
      "Integrating frame 23/64\n",
      "Integrating frame 24/64\n",
      "Integrating frame 25/64\n",
      "Integrating frame 26/64\n",
      "Integrating frame 27/64\n",
      "Integrating frame 28/64\n",
      "Integrating frame 29/64\n",
      "Integrating frame 30/64\n",
      "Integrating frame 31/64\n",
      "Integrating frame 32/64\n",
      "Integrating frame 33/64\n",
      "Integrating frame 34/64\n",
      "Integrating frame 35/64\n",
      "Integrating frame 36/64\n",
      "Integrating frame 37/64\n",
      "Integrating frame 38/64\n",
      "Integrating frame 39/64\n",
      "Integrating frame 40/64\n",
      "Integrating frame 41/64\n",
      "Integrating frame 42/64\n",
      "Integrating frame 43/64\n",
      "Integrating frame 44/64\n",
      "Integrating frame 45/64\n",
      "Integrating frame 46/64\n",
      "Integrating frame 47/64\n",
      "Integrating frame 48/64\n",
      "Integrating frame 49/64\n",
      "Integrating frame 50/64\n",
      "Integrating frame 51/64\n",
      "Integrating frame 52/64\n",
      "Integrating frame 53/64\n",
      "Integrating frame 54/64\n",
      "Integrating frame 55/64\n",
      "Integrating frame 56/64\n",
      "Integrating frame 57/64\n",
      "Integrating frame 58/64\n",
      "Integrating frame 59/64\n",
      "Integrating frame 60/64\n",
      "Integrating frame 61/64\n",
      "Integrating frame 62/64\n",
      "Integrating frame 63/64\n",
      "Integrating frame 64/64\n",
      "Finished integrating 64 frames in 0.6031136512756348 seconds\n",
      "Saving PointCloud to c:\\Users\\Ozguc\\Documents\\GitHub\\AugmentedRoboticFabrication\\capture_nfov_unb_f\\mesh_1.ply...Done!\n",
      "TriangleMesh with 982475 points and 1732248 triangles.\n"
     ]
    }
   ],
   "source": [
    "if runIntegrate:\n",
    "    vs = 1\n",
    "    from src.t_integrate import Integrate\n",
    "\n",
    "    recon = Integrate(fn=folder, root=root, \n",
    "                    voxel_size= vs/512, block_count=100000, depth_max=1.25)\n",
    "    recon.integrate(integrate_color=False)\n",
    "    recon.exportMesh(fn=\"mesh_%d.ply\" % vs)#, bounds=[[.72,-.28,0],[1.28,.28,1]])\n",
    "    # recon.exportPointCloud(fn=\"pcd_%f.ply\" % vs)"
   ]
  }
 ],
 "metadata": {
  "interpreter": {
   "hash": "f794a8b4dc5f9846b06ed09adeee0745619d33c631a5c2f07a3e6a0330b193d2"
  },
  "kernelspec": {
   "display_name": "Python 3.8.13 ('azureCUDA')",
   "language": "python",
   "name": "python3"
  },
  "language_info": {
   "codemirror_mode": {
    "name": "ipython",
    "version": 3
   },
   "file_extension": ".py",
   "mimetype": "text/x-python",
   "name": "python",
   "nbconvert_exporter": "python",
   "pygments_lexer": "ipython3",
   "version": "3.8.13"
  },
  "orig_nbformat": 4
 },
 "nbformat": 4,
 "nbformat_minor": 2
}
