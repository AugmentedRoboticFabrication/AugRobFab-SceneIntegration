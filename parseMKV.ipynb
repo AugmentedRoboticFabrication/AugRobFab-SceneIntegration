{
 "cells": [
  {
   "cell_type": "code",
   "execution_count": 1,
   "metadata": {},
   "outputs": [
    {
     "name": "stdout",
     "output_type": "stream",
     "text": [
      "Jupyter environment detected. Enabling Open3D WebVisualizer.\n",
      "[Open3D INFO] WebRTC GUI backend enabled.\n",
      "[Open3D INFO] WebRTCWindowSystem: HTTP handshake server disabled.\n"
     ]
    },
    {
     "data": {
      "text/plain": [
       "'c:\\\\Users\\\\Ozguc\\\\Documents\\\\GitHub\\\\AugmentedRoboticFabrication'"
      ]
     },
     "execution_count": 1,
     "metadata": {},
     "output_type": "execute_result"
    }
   ],
   "source": [
    "import os\n",
    "from src.AzureKinectParser import AzureKinectMKVParser\n",
    "\n",
    "root = str(globals()['_dh'][0])\n",
    "root"
   ]
  },
  {
   "cell_type": "code",
   "execution_count": 9,
   "metadata": {},
   "outputs": [
    {
     "name": "stdout",
     "output_type": "stream",
     "text": [
      "[Open3D INFO] EOF reached\n",
      "Exporting factory calibration:\n",
      "Camera Matrix:\n",
      " [[609.2271728515625, 0.0, 636.7135009765625], [0.0, 609.0206298828125, 366.68408203125], [0.0, 0.0, 1.0]]\n",
      "Distortion Coefficients:\n",
      " [0.5040435194969177, -2.6585097312927246, 0.0013027479872107506, -0.0005786155234090984, 1.516607642173767, 0.3857000470161438, -2.4865224361419678, 1.4463715553283691]\n"
     ]
    }
   ],
   "source": [
    "parser = AzureKinectMKVParser(fn='720p_binned2x2_continuous', root=root)\n",
    "parser.rgbd(color=True, depth=True)\n",
    "parser.calibration()"
   ]
  }
 ],
 "metadata": {
  "interpreter": {
   "hash": "affac053bf83244b8029a0c18ce67c977e58ec37167172768ee8e4194768d7aa"
  },
  "kernelspec": {
   "display_name": "Python 3.8.12 64-bit ('azure': conda)",
   "name": "python3"
  },
  "language_info": {
   "codemirror_mode": {
    "name": "ipython",
    "version": 3
   },
   "file_extension": ".py",
   "mimetype": "text/x-python",
   "name": "python",
   "nbconvert_exporter": "python",
   "pygments_lexer": "ipython3",
   "version": "3.8.3"
  },
  "orig_nbformat": 4
 },
 "nbformat": 4,
 "nbformat_minor": 2
}
