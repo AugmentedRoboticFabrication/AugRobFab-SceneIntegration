{
 "cells": [
  {
   "cell_type": "code",
   "execution_count": 3,
   "metadata": {},
   "outputs": [
    {
     "data": {
      "text/plain": [
       "'c:\\\\Users\\\\Ozguc\\\\Documents\\\\GitHub\\\\AugmentedRoboticFabrication'"
      ]
     },
     "execution_count": 3,
     "metadata": {},
     "output_type": "execute_result"
    }
   ],
   "source": [
    "import os\n",
    "from src.AzureKinectParser import AzureKinectMKVParser\n",
    "\n",
    "root = str(globals()['_dh'][0])\n",
    "root"
   ]
  },
  {
   "cell_type": "code",
   "execution_count": 4,
   "metadata": {},
   "outputs": [
    {
     "name": "stdout",
     "output_type": "stream",
     "text": [
      "Exporting depth images...[Open3D INFO] EOF reached\n",
      "Exporting factory calibration:\n",
      "Camera Matrix:\n",
      " [[1949.5269775390625, 0.0, 2038.583251953125], [0.0, 1948.865966796875, 1558.489013671875], [0.0, 0.0, 1.0]]\n",
      "Distortion Coefficients:\n",
      " [0.5040435194969177, -2.6585097312927246, 0.0013027479872107506, -0.0005786155234090984, 1.516607642173767, 0.3857000470161438, -2.4865224361419678, 1.4463715553283691]\n"
     ]
    }
   ],
   "source": [
    "parser = AzureKinectMKVParser(fn='mkv_test', root=root)\n",
    "# parser.color()\n",
    "# parser.depth()\n",
    "# parser.calibration()"
   ]
  }
 ],
 "metadata": {
  "interpreter": {
   "hash": "affac053bf83244b8029a0c18ce67c977e58ec37167172768ee8e4194768d7aa"
  },
  "kernelspec": {
   "display_name": "Python 3.8.12 64-bit ('azure': conda)",
   "name": "python3"
  },
  "language_info": {
   "codemirror_mode": {
    "name": "ipython",
    "version": 3
   },
   "file_extension": ".py",
   "mimetype": "text/x-python",
   "name": "python",
   "nbconvert_exporter": "python",
   "pygments_lexer": "ipython3",
   "version": "3.8.12"
  },
  "orig_nbformat": 4
 },
 "nbformat": 4,
 "nbformat_minor": 2
}
